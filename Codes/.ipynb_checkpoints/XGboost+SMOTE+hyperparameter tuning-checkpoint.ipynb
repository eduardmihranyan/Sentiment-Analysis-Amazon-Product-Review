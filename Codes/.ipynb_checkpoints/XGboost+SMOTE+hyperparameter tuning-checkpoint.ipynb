{
 "cells": [
  {
   "cell_type": "code",
   "execution_count": 3,
   "metadata": {},
   "outputs": [],
   "source": [
    "import numpy as np\n",
    "import pandas as pd\n",
    "import seaborn as sns\n",
    "import matplotlib.pyplot as plt\n",
    "import re\n",
    "\n",
    "import nltk\n",
    "from nltk.tokenize import word_tokenize\n",
    "from nltk.stem import WordNetLemmatizer\n",
    "lemmatizer = WordNetLemmatizer()\n",
    "\n",
    "\n",
    "from tqdm import tqdm\n",
    "from bs4 import BeautifulSoup\n",
    "\n",
    "from sklearn.linear_model import LogisticRegression\n",
    "from sklearn.naive_bayes import MultinomialNB\n",
    "from sklearn.svm import SVC,LinearSVC\n",
    "from sklearn.metrics import accuracy_score,classification_report,roc_auc_score\n",
    "from sklearn.model_selection import train_test_split\n",
    "from sklearn.model_selection import GridSearchCV,RandomizedSearchCV \n",
    "\n",
    "\n",
    "from tensorflow.keras.utils import to_categorical\n",
    "from tensorflow import set_random_seed\n",
    "from tensorflow.keras.preprocessing import sequence\n",
    "from tensorflow.keras.preprocessing.text import Tokenizer\n",
    "from tensorflow.keras.layers import Dense,Dropout,Embedding,LSTM\n",
    "from tensorflow.keras.callbacks import EarlyStopping\n",
    "from tensorflow.keras.losses import categorical_crossentropy\n",
    "from tensorflow.keras.optimizers import Adam\n",
    "from tensorflow.keras.models import Sequential\n",
    "\n",
    "\n",
    "from xgboost import XGBClassifier\n",
    "from imblearn.over_sampling import SMOTE"
   ]
  },
  {
   "cell_type": "code",
   "execution_count": 2,
   "metadata": {},
   "outputs": [],
   "source": [
    "data = pd.read_csv(\"data/Musical_instruments_reviews.csv\")"
   ]
  },
  {
   "cell_type": "code",
   "execution_count": 4,
   "metadata": {},
   "outputs": [],
   "source": [
    "data[\"reviewText\"].fillna(\"\",inplace = True)"
   ]
  },
  {
   "cell_type": "code",
   "execution_count": 5,
   "metadata": {},
   "outputs": [],
   "source": [
    "data.drop(columns = ['reviewerID','asin','reviewerName','helpful','unixReviewTime','reviewTime'],inplace = True)"
   ]
  },
  {
   "cell_type": "code",
   "execution_count": 6,
   "metadata": {},
   "outputs": [],
   "source": [
    "data['review'] = data['reviewText'] + ' ' + data['summary']\n",
    "data.drop(columns = ['reviewText','summary'],inplace = True)"
   ]
  },
  {
   "cell_type": "code",
   "execution_count": 7,
   "metadata": {},
   "outputs": [],
   "source": [
    "# Replacing ratings of 1,2,3 with 0 (not good) and 4,5 with 1 (good)\n",
    "data[\"overall\"] = (data[\"overall\"]>3)*1"
   ]
  },
  {
   "cell_type": "code",
   "execution_count": 8,
   "metadata": {},
   "outputs": [],
   "source": [
    "X_train, X_test, y_train ,y_test = train_test_split(data.review, data.overall, test_size = 0.2 , random_state = 42)"
   ]
  },
  {
   "cell_type": "code",
   "execution_count": 9,
   "metadata": {},
   "outputs": [],
   "source": [
    "def clean_sentences(X):\n",
    "    reviews = []\n",
    "\n",
    "    for sent in tqdm(X):\n",
    "        \n",
    "        #remove html content\n",
    "        review_text = BeautifulSoup(sent).get_text()\n",
    "        \n",
    "        #remove non-alphabetic characters\n",
    "        review_text = re.sub(\"[^a-zA-Z]\",\" \", review_text)\n",
    "    \n",
    "        #tokenize the sentences\n",
    "        words = word_tokenize(review_text.lower())\n",
    "    \n",
    "        #lemmatize each word to its lemma\n",
    "        lemma_words = [lemmatizer.lemmatize(i) for i in words]\n",
    "    \n",
    "        reviews.append(lemma_words)\n",
    "\n",
    "    return(reviews)"
   ]
  },
  {
   "cell_type": "code",
   "execution_count": 10,
   "metadata": {},
   "outputs": [
    {
     "name": "stderr",
     "output_type": "stream",
     "text": [
      "100%|██████████| 8208/8208 [00:07<00:00, 1094.42it/s]\n",
      "100%|██████████| 2053/2053 [00:01<00:00, 1321.54it/s]"
     ]
    },
    {
     "name": "stdout",
     "output_type": "stream",
     "text": [
      "8208\n",
      "2053\n"
     ]
    },
    {
     "name": "stderr",
     "output_type": "stream",
     "text": [
      "\n"
     ]
    }
   ],
   "source": [
    "train_sentences = clean_sentences(X_train)\n",
    "test_sentences = clean_sentences(X_test)\n",
    "print(len(train_sentences))\n",
    "print(len(test_sentences))"
   ]
  },
  {
   "cell_type": "code",
   "execution_count": 11,
   "metadata": {},
   "outputs": [
    {
     "name": "stderr",
     "output_type": "stream",
     "text": [
      "100%|██████████| 8208/8208 [00:00<00:00, 317760.86it/s]"
     ]
    },
    {
     "name": "stdout",
     "output_type": "stream",
     "text": [
      "15657\n",
      "2067\n"
     ]
    },
    {
     "name": "stderr",
     "output_type": "stream",
     "text": [
      "\n"
     ]
    }
   ],
   "source": [
    "unique_words = set()\n",
    "len_max = 0\n",
    "\n",
    "for sent in tqdm(train_sentences):\n",
    "    \n",
    "    unique_words.update(sent)\n",
    "    \n",
    "    if(len_max<len(sent)):\n",
    "        len_max = len(sent)\n",
    "        \n",
    "print(len(list(unique_words)))\n",
    "print(len_max)"
   ]
  },
  {
   "cell_type": "code",
   "execution_count": 12,
   "metadata": {},
   "outputs": [
    {
     "name": "stdout",
     "output_type": "stream",
     "text": [
      "(8208, 2067) (2053, 2067)\n"
     ]
    }
   ],
   "source": [
    "tokenizer = Tokenizer(num_words=len(list(unique_words)))\n",
    "tokenizer.fit_on_texts(list(X_train))\n",
    "\n",
    "\n",
    "X_train = tokenizer.texts_to_sequences(train_sentences)\n",
    "X_test = tokenizer.texts_to_sequences(test_sentences)\n",
    "\n",
    "X_train = sequence.pad_sequences(X_train, maxlen=len_max)\n",
    "X_test = sequence.pad_sequences(X_test, maxlen=len_max)\n",
    "\n",
    "print(X_train.shape,X_test.shape)"
   ]
  },
  {
   "cell_type": "code",
   "execution_count": 13,
   "metadata": {},
   "outputs": [],
   "source": [
    "sm = SMOTE()\n",
    "X_train,y_train = sm.fit_resample(X_train,y_train)"
   ]
  },
  {
   "cell_type": "code",
   "execution_count": 14,
   "metadata": {},
   "outputs": [],
   "source": [
    "xgb = XGBClassifier( n_estimators=1000,max_depth=4,min_child_weight = 1 ,gamma = 0 ,\n",
    "                    subsample = 0.8, colsample_bytree = 0.8, nthread=6,seed= 9,tree_method='gpu_hist', gpu_id=0)\n",
    "\n",
    "xgb.fit(X_train, y_train)\n",
    "xgb_predict = xgb.predict(X_test)\n"
   ]
  },
  {
   "cell_type": "code",
   "execution_count": 15,
   "metadata": {},
   "outputs": [
    {
     "data": {
      "text/plain": [
       "0.8426692644909888"
      ]
     },
     "execution_count": 15,
     "metadata": {},
     "output_type": "execute_result"
    }
   ],
   "source": [
    "accuracy_score(y_test, xgb_predict)"
   ]
  },
  {
   "cell_type": "code",
   "execution_count": 16,
   "metadata": {},
   "outputs": [
    {
     "name": "stdout",
     "output_type": "stream",
     "text": [
      "              precision    recall  f1-score   support\n",
      "\n",
      "           0       0.20      0.11      0.14       244\n",
      "           1       0.89      0.94      0.91      1809\n",
      "\n",
      "    accuracy                           0.84      2053\n",
      "   macro avg       0.54      0.53      0.53      2053\n",
      "weighted avg       0.81      0.84      0.82      2053\n",
      "\n"
     ]
    }
   ],
   "source": [
    "xg_report = classification_report(y_test, xgb_predict)\n",
    "print(xg_report)"
   ]
  },
  {
   "cell_type": "code",
   "execution_count": 17,
   "metadata": {},
   "outputs": [],
   "source": [
    "params = {\n",
    "        'min_child_weight': [1, 5, 10],\n",
    "        'gamma': [0, 0.5, 1, 1.5, 2],\n",
    "        'subsample': [0.6, 0.8, 1.0],\n",
    "        'colsample_bytree': [0.6, 0.8, 1.0],\n",
    "        'max_depth': [3, 4, 5]\n",
    "        }"
   ]
  },
  {
   "cell_type": "code",
   "execution_count": 32,
   "metadata": {},
   "outputs": [],
   "source": [
    "xgb = XGBClassifier(learning_rate=0.02, n_estimators=600, objective='binary:logistic',\n",
    "                    silent=True, thread=6,seed= 9,tree_method='gpu_hist', gpu_id=0)"
   ]
  },
  {
   "cell_type": "code",
   "execution_count": 33,
   "metadata": {
    "scrolled": true
   },
   "outputs": [
    {
     "name": "stdout",
     "output_type": "stream",
     "text": [
      "Fitting 4 folds for each of 10 candidates, totalling 40 fits\n",
      "[CV] subsample=1.0, min_child_weight=5, max_depth=3, gamma=2, colsample_bytree=1.0 \n"
     ]
    },
    {
     "name": "stderr",
     "output_type": "stream",
     "text": [
      "[Parallel(n_jobs=1)]: Using backend SequentialBackend with 1 concurrent workers.\n"
     ]
    },
    {
     "name": "stdout",
     "output_type": "stream",
     "text": [
      "[CV]  subsample=1.0, min_child_weight=5, max_depth=3, gamma=2, colsample_bytree=1.0, score=0.769, total=   4.0s\n",
      "[CV] subsample=1.0, min_child_weight=5, max_depth=3, gamma=2, colsample_bytree=1.0 \n"
     ]
    },
    {
     "name": "stderr",
     "output_type": "stream",
     "text": [
      "[Parallel(n_jobs=1)]: Done   1 out of   1 | elapsed:    4.0s remaining:    0.0s\n"
     ]
    },
    {
     "name": "stdout",
     "output_type": "stream",
     "text": [
      "[CV]  subsample=1.0, min_child_weight=5, max_depth=3, gamma=2, colsample_bytree=1.0, score=0.933, total=   4.0s\n",
      "[CV] subsample=1.0, min_child_weight=5, max_depth=3, gamma=2, colsample_bytree=1.0 \n"
     ]
    },
    {
     "name": "stderr",
     "output_type": "stream",
     "text": [
      "[Parallel(n_jobs=1)]: Done   2 out of   2 | elapsed:    8.0s remaining:    0.0s\n"
     ]
    },
    {
     "name": "stdout",
     "output_type": "stream",
     "text": [
      "[CV]  subsample=1.0, min_child_weight=5, max_depth=3, gamma=2, colsample_bytree=1.0, score=0.945, total=   4.0s\n",
      "[CV] subsample=1.0, min_child_weight=5, max_depth=3, gamma=2, colsample_bytree=1.0 \n",
      "[CV]  subsample=1.0, min_child_weight=5, max_depth=3, gamma=2, colsample_bytree=1.0, score=0.936, total=   4.0s\n",
      "[CV] subsample=0.6, min_child_weight=1, max_depth=5, gamma=1, colsample_bytree=0.8 \n",
      "[CV]  subsample=0.6, min_child_weight=1, max_depth=5, gamma=1, colsample_bytree=0.8, score=0.844, total=   8.1s\n",
      "[CV] subsample=0.6, min_child_weight=1, max_depth=5, gamma=1, colsample_bytree=0.8 \n",
      "[CV]  subsample=0.6, min_child_weight=1, max_depth=5, gamma=1, colsample_bytree=0.8, score=0.974, total=   8.0s\n",
      "[CV] subsample=0.6, min_child_weight=1, max_depth=5, gamma=1, colsample_bytree=0.8 \n",
      "[CV]  subsample=0.6, min_child_weight=1, max_depth=5, gamma=1, colsample_bytree=0.8, score=0.979, total=   8.2s\n",
      "[CV] subsample=0.6, min_child_weight=1, max_depth=5, gamma=1, colsample_bytree=0.8 \n",
      "[CV]  subsample=0.6, min_child_weight=1, max_depth=5, gamma=1, colsample_bytree=0.8, score=0.973, total=   8.2s\n",
      "[CV] subsample=0.8, min_child_weight=5, max_depth=5, gamma=0.5, colsample_bytree=0.8 \n",
      "[CV]  subsample=0.8, min_child_weight=5, max_depth=5, gamma=0.5, colsample_bytree=0.8, score=0.836, total=   7.8s\n",
      "[CV] subsample=0.8, min_child_weight=5, max_depth=5, gamma=0.5, colsample_bytree=0.8 \n",
      "[CV]  subsample=0.8, min_child_weight=5, max_depth=5, gamma=0.5, colsample_bytree=0.8, score=0.971, total=   7.5s\n",
      "[CV] subsample=0.8, min_child_weight=5, max_depth=5, gamma=0.5, colsample_bytree=0.8 \n",
      "[CV]  subsample=0.8, min_child_weight=5, max_depth=5, gamma=0.5, colsample_bytree=0.8, score=0.977, total=   7.6s\n",
      "[CV] subsample=0.8, min_child_weight=5, max_depth=5, gamma=0.5, colsample_bytree=0.8 \n",
      "[CV]  subsample=0.8, min_child_weight=5, max_depth=5, gamma=0.5, colsample_bytree=0.8, score=0.971, total=   7.6s\n",
      "[CV] subsample=1.0, min_child_weight=5, max_depth=5, gamma=2, colsample_bytree=0.6 \n",
      "[CV]  subsample=1.0, min_child_weight=5, max_depth=5, gamma=2, colsample_bytree=0.6, score=0.836, total=   6.6s\n",
      "[CV] subsample=1.0, min_child_weight=5, max_depth=5, gamma=2, colsample_bytree=0.6 \n",
      "[CV]  subsample=1.0, min_child_weight=5, max_depth=5, gamma=2, colsample_bytree=0.6, score=0.969, total=   6.4s\n",
      "[CV] subsample=1.0, min_child_weight=5, max_depth=5, gamma=2, colsample_bytree=0.6 \n",
      "[CV]  subsample=1.0, min_child_weight=5, max_depth=5, gamma=2, colsample_bytree=0.6, score=0.976, total=   6.6s\n",
      "[CV] subsample=1.0, min_child_weight=5, max_depth=5, gamma=2, colsample_bytree=0.6 \n",
      "[CV]  subsample=1.0, min_child_weight=5, max_depth=5, gamma=2, colsample_bytree=0.6, score=0.969, total=   6.5s\n",
      "[CV] subsample=0.8, min_child_weight=1, max_depth=4, gamma=0.5, colsample_bytree=1.0 \n",
      "[CV]  subsample=0.8, min_child_weight=1, max_depth=4, gamma=0.5, colsample_bytree=1.0, score=0.810, total=   6.1s\n",
      "[CV] subsample=0.8, min_child_weight=1, max_depth=4, gamma=0.5, colsample_bytree=1.0 \n",
      "[CV]  subsample=0.8, min_child_weight=1, max_depth=4, gamma=0.5, colsample_bytree=1.0, score=0.958, total=   6.1s\n",
      "[CV] subsample=0.8, min_child_weight=1, max_depth=4, gamma=0.5, colsample_bytree=1.0 \n",
      "[CV]  subsample=0.8, min_child_weight=1, max_depth=4, gamma=0.5, colsample_bytree=1.0, score=0.968, total=   6.1s\n",
      "[CV] subsample=0.8, min_child_weight=1, max_depth=4, gamma=0.5, colsample_bytree=1.0 \n",
      "[CV]  subsample=0.8, min_child_weight=1, max_depth=4, gamma=0.5, colsample_bytree=1.0, score=0.959, total=   6.2s\n",
      "[CV] subsample=1.0, min_child_weight=10, max_depth=4, gamma=1, colsample_bytree=0.6 \n",
      "[CV]  subsample=1.0, min_child_weight=10, max_depth=4, gamma=1, colsample_bytree=0.6, score=0.800, total=   4.9s\n",
      "[CV] subsample=1.0, min_child_weight=10, max_depth=4, gamma=1, colsample_bytree=0.6 \n",
      "[CV]  subsample=1.0, min_child_weight=10, max_depth=4, gamma=1, colsample_bytree=0.6, score=0.952, total=   4.8s\n",
      "[CV] subsample=1.0, min_child_weight=10, max_depth=4, gamma=1, colsample_bytree=0.6 \n",
      "[CV]  subsample=1.0, min_child_weight=10, max_depth=4, gamma=1, colsample_bytree=0.6, score=0.963, total=   4.8s\n",
      "[CV] subsample=1.0, min_child_weight=10, max_depth=4, gamma=1, colsample_bytree=0.6 \n",
      "[CV]  subsample=1.0, min_child_weight=10, max_depth=4, gamma=1, colsample_bytree=0.6, score=0.955, total=   4.8s\n",
      "[CV] subsample=1.0, min_child_weight=1, max_depth=5, gamma=2, colsample_bytree=0.6 \n",
      "[CV]  subsample=1.0, min_child_weight=1, max_depth=5, gamma=2, colsample_bytree=0.6, score=0.846, total=   7.2s\n",
      "[CV] subsample=1.0, min_child_weight=1, max_depth=5, gamma=2, colsample_bytree=0.6 \n",
      "[CV]  subsample=1.0, min_child_weight=1, max_depth=5, gamma=2, colsample_bytree=0.6, score=0.973, total=   7.2s\n",
      "[CV] subsample=1.0, min_child_weight=1, max_depth=5, gamma=2, colsample_bytree=0.6 \n",
      "[CV]  subsample=1.0, min_child_weight=1, max_depth=5, gamma=2, colsample_bytree=0.6, score=0.978, total=   7.2s\n",
      "[CV] subsample=1.0, min_child_weight=1, max_depth=5, gamma=2, colsample_bytree=0.6 \n",
      "[CV]  subsample=1.0, min_child_weight=1, max_depth=5, gamma=2, colsample_bytree=0.6, score=0.972, total=   7.1s\n",
      "[CV] subsample=0.8, min_child_weight=1, max_depth=3, gamma=1.5, colsample_bytree=0.8 \n",
      "[CV]  subsample=0.8, min_child_weight=1, max_depth=3, gamma=1.5, colsample_bytree=0.8, score=0.766, total=   4.0s\n",
      "[CV] subsample=0.8, min_child_weight=1, max_depth=3, gamma=1.5, colsample_bytree=0.8 \n",
      "[CV]  subsample=0.8, min_child_weight=1, max_depth=3, gamma=1.5, colsample_bytree=0.8, score=0.937, total=   4.0s\n",
      "[CV] subsample=0.8, min_child_weight=1, max_depth=3, gamma=1.5, colsample_bytree=0.8 \n",
      "[CV]  subsample=0.8, min_child_weight=1, max_depth=3, gamma=1.5, colsample_bytree=0.8, score=0.948, total=   4.0s\n",
      "[CV] subsample=0.8, min_child_weight=1, max_depth=3, gamma=1.5, colsample_bytree=0.8 \n",
      "[CV]  subsample=0.8, min_child_weight=1, max_depth=3, gamma=1.5, colsample_bytree=0.8, score=0.939, total=   4.0s\n",
      "[CV] subsample=0.8, min_child_weight=1, max_depth=5, gamma=0, colsample_bytree=0.6 \n",
      "[CV]  subsample=0.8, min_child_weight=1, max_depth=5, gamma=0, colsample_bytree=0.6, score=0.845, total=   7.6s\n",
      "[CV] subsample=0.8, min_child_weight=1, max_depth=5, gamma=0, colsample_bytree=0.6 \n",
      "[CV]  subsample=0.8, min_child_weight=1, max_depth=5, gamma=0, colsample_bytree=0.6, score=0.974, total=   7.4s\n",
      "[CV] subsample=0.8, min_child_weight=1, max_depth=5, gamma=0, colsample_bytree=0.6 \n",
      "[CV]  subsample=0.8, min_child_weight=1, max_depth=5, gamma=0, colsample_bytree=0.6, score=0.980, total=   7.5s\n",
      "[CV] subsample=0.8, min_child_weight=1, max_depth=5, gamma=0, colsample_bytree=0.6 \n",
      "[CV]  subsample=0.8, min_child_weight=1, max_depth=5, gamma=0, colsample_bytree=0.6, score=0.973, total=   7.3s\n",
      "[CV] subsample=0.8, min_child_weight=1, max_depth=4, gamma=1, colsample_bytree=0.6 \n",
      "[CV]  subsample=0.8, min_child_weight=1, max_depth=4, gamma=1, colsample_bytree=0.6, score=0.804, total=   5.1s\n",
      "[CV] subsample=0.8, min_child_weight=1, max_depth=4, gamma=1, colsample_bytree=0.6 \n",
      "[CV]  subsample=0.8, min_child_weight=1, max_depth=4, gamma=1, colsample_bytree=0.6, score=0.957, total=   5.2s\n",
      "[CV] subsample=0.8, min_child_weight=1, max_depth=4, gamma=1, colsample_bytree=0.6 \n",
      "[CV]  subsample=0.8, min_child_weight=1, max_depth=4, gamma=1, colsample_bytree=0.6, score=0.966, total=   5.1s\n",
      "[CV] subsample=0.8, min_child_weight=1, max_depth=4, gamma=1, colsample_bytree=0.6 \n",
      "[CV]  subsample=0.8, min_child_weight=1, max_depth=4, gamma=1, colsample_bytree=0.6, score=0.958, total=   5.0s\n"
     ]
    },
    {
     "name": "stderr",
     "output_type": "stream",
     "text": [
      "[Parallel(n_jobs=1)]: Done  40 out of  40 | elapsed:  4.1min finished\n"
     ]
    },
    {
     "data": {
      "text/plain": [
       "RandomizedSearchCV(cv=4,\n",
       "                   estimator=XGBClassifier(gpu_id=0, learning_rate=0.02,\n",
       "                                           n_estimators=600, seed=9,\n",
       "                                           silent=True, thread=6,\n",
       "                                           tree_method='gpu_hist'),\n",
       "                   param_distributions={'colsample_bytree': [0.6, 0.8, 1.0],\n",
       "                                        'gamma': [0, 0.5, 1, 1.5, 2],\n",
       "                                        'max_depth': [3, 4, 5],\n",
       "                                        'min_child_weight': [1, 5, 10],\n",
       "                                        'subsample': [0.6, 0.8, 1.0]},\n",
       "                   random_state=1001, scoring='roc_auc', verbose=3)"
      ]
     },
     "execution_count": 33,
     "metadata": {},
     "output_type": "execute_result"
    }
   ],
   "source": [
    "random_search = RandomizedSearchCV(xgb, param_distributions=params, n_iter=10, scoring='roc_auc', cv=4, verbose=3, random_state=1001 )\n",
    "random_search.fit(X_train, y_train)"
   ]
  },
  {
   "cell_type": "code",
   "execution_count": 34,
   "metadata": {},
   "outputs": [
    {
     "name": "stdout",
     "output_type": "stream",
     "text": [
      "\n",
      " Best estimator:\n",
      "XGBClassifier(colsample_bytree=0.6, gpu_id=0, learning_rate=0.02, max_depth=5,\n",
      "              n_estimators=600, seed=9, silent=True, subsample=0.8, thread=6,\n",
      "              tree_method='gpu_hist')\n",
      "0.942999199005799\n",
      "\n",
      " Best hyperparameters:\n",
      "{'subsample': 0.8, 'min_child_weight': 1, 'max_depth': 5, 'gamma': 0, 'colsample_bytree': 0.6}\n"
     ]
    }
   ],
   "source": [
    "print('\\n Best estimator:')\n",
    "print(random_search.best_estimator_)\n",
    "print(random_search.best_score_ )\n",
    "print('\\n Best hyperparameters:')\n",
    "print(random_search.best_params_)\n"
   ]
  },
  {
   "cell_type": "code",
   "execution_count": 28,
   "metadata": {},
   "outputs": [],
   "source": [
    "xgb = XGBClassifier(learning_rate=0.02, n_estimators=1000, objective='binary:logistic',subsample =0.6, \n",
    "                    min_child_weight=1, max_depth = 5, gamma = 1, colsample_bytree = 0.8,\n",
    "                    silent=True, thread=6,seed= 9,tree_method='gpu_hist', gpu_id=0)"
   ]
  },
  {
   "cell_type": "code",
   "execution_count": 29,
   "metadata": {},
   "outputs": [],
   "source": [
    "xgb.fit(X_train, y_train)\n",
    "xgb_predict = xgb.predict(X_test)"
   ]
  },
  {
   "cell_type": "code",
   "execution_count": 30,
   "metadata": {},
   "outputs": [
    {
     "data": {
      "text/plain": [
       "0.8202630297126157"
      ]
     },
     "execution_count": 30,
     "metadata": {},
     "output_type": "execute_result"
    }
   ],
   "source": [
    "accuracy_score(y_test, xgb_predict)"
   ]
  },
  {
   "cell_type": "code",
   "execution_count": 31,
   "metadata": {},
   "outputs": [
    {
     "name": "stdout",
     "output_type": "stream",
     "text": [
      "              precision    recall  f1-score   support\n",
      "\n",
      "           0       0.18      0.14      0.16       244\n",
      "           1       0.89      0.91      0.90      1809\n",
      "\n",
      "    accuracy                           0.82      2053\n",
      "   macro avg       0.53      0.53      0.53      2053\n",
      "weighted avg       0.80      0.82      0.81      2053\n",
      "\n"
     ]
    }
   ],
   "source": [
    "xg_report = classification_report(y_test, xgb_predict)\n",
    "print(xg_report)"
   ]
  },
  {
   "cell_type": "code",
   "execution_count": null,
   "metadata": {},
   "outputs": [],
   "source": []
  }
 ],
 "metadata": {
  "kernelspec": {
   "display_name": "Python 3",
   "language": "python",
   "name": "python3"
  },
  "language_info": {
   "codemirror_mode": {
    "name": "ipython",
    "version": 3
   },
   "file_extension": ".py",
   "mimetype": "text/x-python",
   "name": "python",
   "nbconvert_exporter": "python",
   "pygments_lexer": "ipython3",
   "version": "3.6.9"
  }
 },
 "nbformat": 4,
 "nbformat_minor": 2
}
